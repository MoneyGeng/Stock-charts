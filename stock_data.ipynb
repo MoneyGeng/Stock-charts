{
 "cells": [
  {
   "cell_type": "code",
   "execution_count": 1,
   "id": "0afcea6f",
   "metadata": {},
   "outputs": [],
   "source": [
    "import pandas as pd\n",
    "import glob"
   ]
  },
  {
   "cell_type": "code",
   "execution_count": 2,
   "id": "3d35eab7",
   "metadata": {},
   "outputs": [],
   "source": [
    "# Path to the directory containing the CSV files\n",
    "path = \"C:/Users/John/Desktop/Data Analytics Bootcamp/Data-Analytics-Bootcamp/UTOR-VIRT-DATA-PT-12-2022-U-LOLC-main/Project 3/Stock-charts/Resources\"\n",
    "\n",
    "# Get a list of all CSV files in the directory\n",
    "all_files = glob.glob(path + \"/*.csv\")\n",
    "\n",
    "# Combine all CSV files into a single DataFrame\n",
    "df = pd.concat((pd.read_csv(f) for f in all_files))\n",
    "\n",
    "# Write the combined DataFrame to a new CSV file\n",
    "df.to_csv(\"C:/Users/John/Desktop/Data Analytics Bootcamp/Data-Analytics-Bootcamp/UTOR-VIRT-DATA-PT-12-2022-U-LOLC-main/Project 3/Stock-charts/Resources/combined_stock_data.csv\", index=False)\n"
   ]
  },
  {
   "cell_type": "code",
   "execution_count": 5,
   "id": "2e2446c0",
   "metadata": {},
   "outputs": [],
   "source": [
    "# Set the path to the CSV file\n",
    "csv_path = \"C:/Users/John/Desktop/Data Analytics Bootcamp/Data-Analytics-Bootcamp/UTOR-VIRT-DATA-PT-12-2022-U-LOLC-main/Project 3/Stock-charts/Resources/combined_stock_data.csv\"\n",
    "\n",
    "# Read the CSV file into a pandas DataFrame\n",
    "df = pd.read_csv(csv_path)\n",
    "\n",
    "# Convert the DataFrame to JSON format\n",
    "json_data = df.to_json(orient=\"records\")\n",
    "\n",
    "# Write the JSON data to a file\n",
    "with open(\"C:/Users/John/Desktop/Data Analytics Bootcamp/Data-Analytics-Bootcamp/UTOR-VIRT-DATA-PT-12-2022-U-LOLC-main/Project 3/Stock-charts/Resources/stock_data.json\", \"w\") as outfile:\n",
    "    outfile.write(json_data)\n"
   ]
  },
  {
   "cell_type": "code",
   "execution_count": null,
   "id": "d2b9f4aa",
   "metadata": {},
   "outputs": [],
   "source": []
  }
 ],
 "metadata": {
  "kernelspec": {
   "display_name": "Python 3 (ipykernel)",
   "language": "python",
   "name": "python3"
  },
  "language_info": {
   "codemirror_mode": {
    "name": "ipython",
    "version": 3
   },
   "file_extension": ".py",
   "mimetype": "text/x-python",
   "name": "python",
   "nbconvert_exporter": "python",
   "pygments_lexer": "ipython3",
   "version": "3.9.12"
  }
 },
 "nbformat": 4,
 "nbformat_minor": 5
}
