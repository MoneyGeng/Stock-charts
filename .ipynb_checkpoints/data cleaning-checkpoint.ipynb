{
 "cells": [
  {
   "cell_type": "code",
   "execution_count": 3,
   "id": "ddfa6c0d",
   "metadata": {},
   "outputs": [],
   "source": [
    "import pandas as pd\n",
    "import glob"
   ]
  },
  {
   "cell_type": "code",
   "execution_count": 4,
   "id": "5afbf8ce",
   "metadata": {},
   "outputs": [
    {
     "ename": "SyntaxError",
     "evalue": "EOL while scanning string literal (382677128.py, line 2)",
     "output_type": "error",
     "traceback": [
      "\u001b[1;36m  Input \u001b[1;32mIn [4]\u001b[1;36m\u001b[0m\n\u001b[1;33m    path = \"C:/Users/John/Desktop/Data Analytics Bootcamp/Data-Analytics-Bootcamp/UTOR-VIRT-DATA-PT-12-2022-U-LOLC-main/Project 3/Stock-charts/Resources\u001b[0m\n\u001b[1;37m                                                                                                                                                        ^\u001b[0m\n\u001b[1;31mSyntaxError\u001b[0m\u001b[1;31m:\u001b[0m EOL while scanning string literal\n"
     ]
    }
   ],
   "source": [
    "# Path to the directory containing the CSV files\n",
    "path = \"C:/Users/John/Desktop/Data Analytics Bootcamp/Data-Analytics-Bootcamp/UTOR-VIRT-DATA-PT-12-2022-U-LOLC-main/Project 3/Stock-charts/Resources\n",
    "\"\n",
    "\n",
    "# Get a list of all CSV files in the directory\n",
    "all_files = glob.glob(path + \"/*.csv\")\n",
    "\n",
    "# Combine all CSV files into a single DataFrame\n",
    "df = pd.concat((pd.read_csv(f) for f in all_files))\n",
    "\n",
    "# Write the combined DataFrame to a new CSV file\n",
    "df.to_csv(\"C:/Users/John/Desktop/Data Analytics Bootcamp/Data-Analytics-Bootcamp/UTOR-VIRT-DATA-PT-12-2022-U-LOLC-main/Project 3/Stock-charts/Resources/combined_stock_data.csv\", index=False)"
   ]
  },
  {
   "cell_type": "code",
   "execution_count": null,
   "id": "9a1d0bbb",
   "metadata": {},
   "outputs": [],
   "source": []
  }
 ],
 "metadata": {
  "kernelspec": {
   "display_name": "Python 3 (ipykernel)",
   "language": "python",
   "name": "python3"
  },
  "language_info": {
   "codemirror_mode": {
    "name": "ipython",
    "version": 3
   },
   "file_extension": ".py",
   "mimetype": "text/x-python",
   "name": "python",
   "nbconvert_exporter": "python",
   "pygments_lexer": "ipython3",
   "version": "3.9.12"
  }
 },
 "nbformat": 4,
 "nbformat_minor": 5
}
